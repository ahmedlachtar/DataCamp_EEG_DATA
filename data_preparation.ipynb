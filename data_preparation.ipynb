{
 "cells": [
  {
   "cell_type": "code",
   "execution_count": 1,
   "metadata": {
    "pycharm": {
     "name": "#%%\n"
    }
   },
   "outputs": [],
   "source": [
    "import pandas as pd\n",
    "import numpy as np\n"
   ]
  },
  {
   "cell_type": "markdown",
   "metadata": {},
   "source": [
    "Goals:\n",
    "\n",
    "- I have to order them by channel and event\n",
    "- List of channel as attribut channels\n",
    "- List of lists of every chanel's output\n",
    "- maybe discard the size\n",
    "- getting 5000 samples from each device (approximatively)"
   ]
  },
  {
   "cell_type": "markdown",
   "metadata": {},
   "source": [
    "\n",
    "# Data Importation, device EPOC\n"
   ]
  },
  {
   "cell_type": "code",
   "execution_count": 2,
   "metadata": {
    "pycharm": {
     "name": "#%%\n"
    }
   },
   "outputs": [],
   "source": [
    "column_names = [\"id\",\"event\",\"device\",\"channel\",\"code\",\"size\",\"data\"]\n",
    "df = pd.read_table(\"mindbigdata-ep-v1.0/EP101.txt\",header = None,\n",
    "                   names =column_names,index_col=\"id\",sep = '\\t')"
   ]
  },
  {
   "cell_type": "code",
   "execution_count": 3,
   "metadata": {},
   "outputs": [],
   "source": [
    "# Sorting\n",
    "df = df.sort_values([\"event\",\"channel\"])"
   ]
  },
  {
   "cell_type": "code",
   "execution_count": 11,
   "metadata": {},
   "outputs": [],
   "source": [
    "df = df.iloc[:71000,]\n",
    "def list_time_series(x):\n",
    "    L = []\n",
    "    for k in x.values:\n",
    "        a = k.split(sep = ',')\n",
    "        L.append([float(z) for z in a ])\n",
    "    return L\n",
    "df_listed = df.groupby([\"event\",\"code\",\"device\"]).agg(\n",
    "    data_lists = pd.NamedAgg(column='data', aggfunc=list_time_series),\n",
    "    channels_names = pd.NamedAgg(column='channel', aggfunc=list)\n",
    ")\n",
    "df_listed= df_listed.reset_index()"
   ]
  },
  {
   "cell_type": "code",
   "execution_count": 12,
   "metadata": {},
   "outputs": [
    {
     "data": {
      "text/html": [
       "<div>\n",
       "<style scoped>\n",
       "    .dataframe tbody tr th:only-of-type {\n",
       "        vertical-align: middle;\n",
       "    }\n",
       "\n",
       "    .dataframe tbody tr th {\n",
       "        vertical-align: top;\n",
       "    }\n",
       "\n",
       "    .dataframe thead th {\n",
       "        text-align: right;\n",
       "    }\n",
       "</style>\n",
       "<table border=\"1\" class=\"dataframe\">\n",
       "  <thead>\n",
       "    <tr style=\"text-align: right;\">\n",
       "      <th></th>\n",
       "      <th>event</th>\n",
       "      <th>code</th>\n",
       "      <th>device</th>\n",
       "      <th>data_lists</th>\n",
       "      <th>channels_names</th>\n",
       "    </tr>\n",
       "  </thead>\n",
       "  <tbody>\n",
       "    <tr>\n",
       "      <th>0</th>\n",
       "      <td>67635</td>\n",
       "      <td>6</td>\n",
       "      <td>EP</td>\n",
       "      <td>[[4078.461538, 4062.564102, 4055.897435, 4065....</td>\n",
       "      <td>[AF4, F3, F4, F7, F8, FC5, FC6, O1, O2, P7, P8...</td>\n",
       "    </tr>\n",
       "    <tr>\n",
       "      <th>1</th>\n",
       "      <td>67636</td>\n",
       "      <td>7</td>\n",
       "      <td>EP</td>\n",
       "      <td>[[4385.641025, 4381.538461, 4386.666666, 4383....</td>\n",
       "      <td>[AF3, AF4, F3, F4, F7, F8, FC5, FC6, O1, O2, P...</td>\n",
       "    </tr>\n",
       "    <tr>\n",
       "      <th>2</th>\n",
       "      <td>67637</td>\n",
       "      <td>9</td>\n",
       "      <td>EP</td>\n",
       "      <td>[[4380.51282, 4389.743589, 4395.897435, 4395.3...</td>\n",
       "      <td>[AF3, AF4, F3, F4, F7, F8, FC5, FC6, O1, O2, P...</td>\n",
       "    </tr>\n",
       "    <tr>\n",
       "      <th>3</th>\n",
       "      <td>67638</td>\n",
       "      <td>9</td>\n",
       "      <td>EP</td>\n",
       "      <td>[[4395.897435, 4390.76923, 4403.589743, 4411.2...</td>\n",
       "      <td>[AF3, AF4, F3, F4, F7, F8, FC5, FC6, O1, O2, P...</td>\n",
       "    </tr>\n",
       "    <tr>\n",
       "      <th>4</th>\n",
       "      <td>67639</td>\n",
       "      <td>0</td>\n",
       "      <td>EP</td>\n",
       "      <td>[[4395.384615, 4385.128205, 4382.051282, 4390....</td>\n",
       "      <td>[AF3, AF4, F3, F4, F7, F8, FC5, FC6, O1, O2, P...</td>\n",
       "    </tr>\n",
       "  </tbody>\n",
       "</table>\n",
       "</div>"
      ],
      "text/plain": [
       "   event  code device                                         data_lists  \\\n",
       "0  67635     6     EP  [[4078.461538, 4062.564102, 4055.897435, 4065....   \n",
       "1  67636     7     EP  [[4385.641025, 4381.538461, 4386.666666, 4383....   \n",
       "2  67637     9     EP  [[4380.51282, 4389.743589, 4395.897435, 4395.3...   \n",
       "3  67638     9     EP  [[4395.897435, 4390.76923, 4403.589743, 4411.2...   \n",
       "4  67639     0     EP  [[4395.384615, 4385.128205, 4382.051282, 4390....   \n",
       "\n",
       "                                      channels_names  \n",
       "0  [AF4, F3, F4, F7, F8, FC5, FC6, O1, O2, P7, P8...  \n",
       "1  [AF3, AF4, F3, F4, F7, F8, FC5, FC6, O1, O2, P...  \n",
       "2  [AF3, AF4, F3, F4, F7, F8, FC5, FC6, O1, O2, P...  \n",
       "3  [AF3, AF4, F3, F4, F7, F8, FC5, FC6, O1, O2, P...  \n",
       "4  [AF3, AF4, F3, F4, F7, F8, FC5, FC6, O1, O2, P...  "
      ]
     },
     "execution_count": 12,
     "metadata": {},
     "output_type": "execute_result"
    }
   ],
   "source": [
    "df_listed.head()"
   ]
  },
  {
   "cell_type": "code",
   "execution_count": 13,
   "metadata": {},
   "outputs": [
    {
     "data": {
      "text/plain": [
       "(5072, 5)"
      ]
     },
     "execution_count": 13,
     "metadata": {},
     "output_type": "execute_result"
    }
   ],
   "source": [
    "df_listed.shape"
   ]
  },
  {
   "cell_type": "markdown",
   "metadata": {},
   "source": [
    "# DEVICE EPOC IS READY"
   ]
  },
  {
   "cell_type": "code",
   "execution_count": 23,
   "metadata": {},
   "outputs": [],
   "source": [
    "column_names = [\"id\",\"event\",\"device\",\"channel\",\"code\",\"size\",\"data\"]\n",
    "df = pd.read_table(\"mindbigdata-ep-v1.0/MU.txt\",header = None,\n",
    "                   names =column_names,index_col=\"id\",sep = '\\t')\n",
    "# Sorting\n",
    "df = df.sort_values([\"event\",\"channel\"])\n",
    "df = df.iloc[:21000,]\n",
    "def list_time_series(x):\n",
    "    L = []\n",
    "    for k in x.values:\n",
    "        a = k.split(sep = ',')\n",
    "        L.append([float(z) for z in a ])\n",
    "    return L\n",
    "df_listed_mu = df.groupby([\"event\",\"code\",\"device\"]).agg(\n",
    "    data_lists = pd.NamedAgg(column='data', aggfunc=list_time_series),\n",
    "    channels_names = pd.NamedAgg(column='channel', aggfunc=list)\n",
    ")\n",
    "df_listed_mu= df_listed_mu.reset_index()"
   ]
  },
  {
   "cell_type": "code",
   "execution_count": 24,
   "metadata": {},
   "outputs": [
    {
     "data": {
      "text/html": [
       "<div>\n",
       "<style scoped>\n",
       "    .dataframe tbody tr th:only-of-type {\n",
       "        vertical-align: middle;\n",
       "    }\n",
       "\n",
       "    .dataframe tbody tr th {\n",
       "        vertical-align: top;\n",
       "    }\n",
       "\n",
       "    .dataframe thead th {\n",
       "        text-align: right;\n",
       "    }\n",
       "</style>\n",
       "<table border=\"1\" class=\"dataframe\">\n",
       "  <thead>\n",
       "    <tr style=\"text-align: right;\">\n",
       "      <th></th>\n",
       "      <th>event</th>\n",
       "      <th>code</th>\n",
       "      <th>device</th>\n",
       "      <th>data_lists</th>\n",
       "      <th>channels_names</th>\n",
       "    </tr>\n",
       "  </thead>\n",
       "  <tbody>\n",
       "    <tr>\n",
       "      <th>0</th>\n",
       "      <td>132669</td>\n",
       "      <td>6</td>\n",
       "      <td>MU</td>\n",
       "      <td>[[468.0, 487.0, 493.0, 493.0, 498.0, 493.0, 49...</td>\n",
       "      <td>[FP1, FP2, TP10, TP9]</td>\n",
       "    </tr>\n",
       "    <tr>\n",
       "      <th>1</th>\n",
       "      <td>132670</td>\n",
       "      <td>7</td>\n",
       "      <td>MU</td>\n",
       "      <td>[[505.0, 515.0, 513.0, 506.0, 512.0, 520.0, 51...</td>\n",
       "      <td>[FP1, FP2, TP10, TP9]</td>\n",
       "    </tr>\n",
       "    <tr>\n",
       "      <th>2</th>\n",
       "      <td>132671</td>\n",
       "      <td>6</td>\n",
       "      <td>MU</td>\n",
       "      <td>[[502.0, 516.0, 514.0, 508.0, 514.0, 520.0, 52...</td>\n",
       "      <td>[FP1, FP2, TP10, TP9]</td>\n",
       "    </tr>\n",
       "    <tr>\n",
       "      <th>3</th>\n",
       "      <td>132672</td>\n",
       "      <td>6</td>\n",
       "      <td>MU</td>\n",
       "      <td>[[512.0, 529.0, 527.0, 526.0, 522.0, 522.0, 52...</td>\n",
       "      <td>[FP1, FP2, TP10, TP9]</td>\n",
       "    </tr>\n",
       "    <tr>\n",
       "      <th>4</th>\n",
       "      <td>132673</td>\n",
       "      <td>1</td>\n",
       "      <td>MU</td>\n",
       "      <td>[[506.0, 511.0, 513.0, 518.0, 505.0, 522.0, 52...</td>\n",
       "      <td>[FP1, FP2, TP10, TP9]</td>\n",
       "    </tr>\n",
       "  </tbody>\n",
       "</table>\n",
       "</div>"
      ],
      "text/plain": [
       "    event  code device                                         data_lists  \\\n",
       "0  132669     6     MU  [[468.0, 487.0, 493.0, 493.0, 498.0, 493.0, 49...   \n",
       "1  132670     7     MU  [[505.0, 515.0, 513.0, 506.0, 512.0, 520.0, 51...   \n",
       "2  132671     6     MU  [[502.0, 516.0, 514.0, 508.0, 514.0, 520.0, 52...   \n",
       "3  132672     6     MU  [[512.0, 529.0, 527.0, 526.0, 522.0, 522.0, 52...   \n",
       "4  132673     1     MU  [[506.0, 511.0, 513.0, 518.0, 505.0, 522.0, 52...   \n",
       "\n",
       "          channels_names  \n",
       "0  [FP1, FP2, TP10, TP9]  \n",
       "1  [FP1, FP2, TP10, TP9]  \n",
       "2  [FP1, FP2, TP10, TP9]  \n",
       "3  [FP1, FP2, TP10, TP9]  \n",
       "4  [FP1, FP2, TP10, TP9]  "
      ]
     },
     "execution_count": 24,
     "metadata": {},
     "output_type": "execute_result"
    }
   ],
   "source": [
    "df_listed_mu.head()"
   ]
  },
  {
   "cell_type": "code",
   "execution_count": 25,
   "metadata": {},
   "outputs": [
    {
     "data": {
      "text/plain": [
       "(5250, 5)"
      ]
     },
     "execution_count": 25,
     "metadata": {},
     "output_type": "execute_result"
    }
   ],
   "source": [
    "df_listed_mu.shape"
   ]
  },
  {
   "cell_type": "markdown",
   "metadata": {},
   "source": [
    "# Device Muse is ready"
   ]
  },
  {
   "cell_type": "code",
   "execution_count": 38,
   "metadata": {},
   "outputs": [],
   "source": [
    "column_names = [\"id\",\"event\",\"device\",\"channel\",\"code\",\"size\",\"data\"]\n",
    "df = pd.read_table(\"mindbigdata-ep-v1.0/IN.txt\",header = None,\n",
    "                   names =column_names,index_col=\"id\",sep = '\\t')\n",
    "# Sorting\n",
    "df = df.sort_values([\"event\",\"channel\"])\n",
    "df = df.iloc[:25000,]\n",
    "def list_time_series(x):\n",
    "    L = []\n",
    "    for k in x.values:\n",
    "        a = k.split(sep = ',')\n",
    "        L.append([float(z) for z in a ])\n",
    "    return L\n",
    "df_listed_in = df.groupby([\"event\",\"code\",\"device\"]).agg(\n",
    "    data_lists = pd.NamedAgg(column='data', aggfunc=list_time_series),\n",
    "    channels_names = pd.NamedAgg(column='channel', aggfunc=list)\n",
    ")\n",
    "df_listed_in= df_listed_in.reset_index()"
   ]
  },
  {
   "cell_type": "code",
   "execution_count": 39,
   "metadata": {},
   "outputs": [
    {
     "data": {
      "text/html": [
       "<div>\n",
       "<style scoped>\n",
       "    .dataframe tbody tr th:only-of-type {\n",
       "        vertical-align: middle;\n",
       "    }\n",
       "\n",
       "    .dataframe tbody tr th {\n",
       "        vertical-align: top;\n",
       "    }\n",
       "\n",
       "    .dataframe thead th {\n",
       "        text-align: right;\n",
       "    }\n",
       "</style>\n",
       "<table border=\"1\" class=\"dataframe\">\n",
       "  <thead>\n",
       "    <tr style=\"text-align: right;\">\n",
       "      <th></th>\n",
       "      <th>event</th>\n",
       "      <th>code</th>\n",
       "      <th>device</th>\n",
       "      <th>data_lists</th>\n",
       "      <th>channels_names</th>\n",
       "    </tr>\n",
       "  </thead>\n",
       "  <tbody>\n",
       "    <tr>\n",
       "      <th>0</th>\n",
       "      <td>173652</td>\n",
       "      <td>0</td>\n",
       "      <td>IN</td>\n",
       "      <td>[[4259.487179, 4237.948717, 4247.179487, 4242....</td>\n",
       "      <td>[AF3, AF4, PZ, T7, T8]</td>\n",
       "    </tr>\n",
       "    <tr>\n",
       "      <th>1</th>\n",
       "      <td>173653</td>\n",
       "      <td>6</td>\n",
       "      <td>IN</td>\n",
       "      <td>[[4273.846153, 4265.641025, 4270.25641, 4284.6...</td>\n",
       "      <td>[AF3, AF4, PZ, T7, T8]</td>\n",
       "    </tr>\n",
       "    <tr>\n",
       "      <th>2</th>\n",
       "      <td>173654</td>\n",
       "      <td>8</td>\n",
       "      <td>IN</td>\n",
       "      <td>[[4309.743589, 4290.76923, 4311.282051, 4303.0...</td>\n",
       "      <td>[AF3, AF4, PZ, T7, T8]</td>\n",
       "    </tr>\n",
       "    <tr>\n",
       "      <th>3</th>\n",
       "      <td>173655</td>\n",
       "      <td>4</td>\n",
       "      <td>IN</td>\n",
       "      <td>[[4343.589743, 4363.076923, 4366.153846, 4363....</td>\n",
       "      <td>[AF3, AF4, PZ, T7, T8]</td>\n",
       "    </tr>\n",
       "    <tr>\n",
       "      <th>4</th>\n",
       "      <td>173656</td>\n",
       "      <td>4</td>\n",
       "      <td>IN</td>\n",
       "      <td>[[4157.435897, 4171.794871, 4177.948717, 4145....</td>\n",
       "      <td>[AF3, AF4, PZ, T7, T8]</td>\n",
       "    </tr>\n",
       "  </tbody>\n",
       "</table>\n",
       "</div>"
      ],
      "text/plain": [
       "    event  code device                                         data_lists  \\\n",
       "0  173652     0     IN  [[4259.487179, 4237.948717, 4247.179487, 4242....   \n",
       "1  173653     6     IN  [[4273.846153, 4265.641025, 4270.25641, 4284.6...   \n",
       "2  173654     8     IN  [[4309.743589, 4290.76923, 4311.282051, 4303.0...   \n",
       "3  173655     4     IN  [[4343.589743, 4363.076923, 4366.153846, 4363....   \n",
       "4  173656     4     IN  [[4157.435897, 4171.794871, 4177.948717, 4145....   \n",
       "\n",
       "           channels_names  \n",
       "0  [AF3, AF4, PZ, T7, T8]  \n",
       "1  [AF3, AF4, PZ, T7, T8]  \n",
       "2  [AF3, AF4, PZ, T7, T8]  \n",
       "3  [AF3, AF4, PZ, T7, T8]  \n",
       "4  [AF3, AF4, PZ, T7, T8]  "
      ]
     },
     "execution_count": 39,
     "metadata": {},
     "output_type": "execute_result"
    }
   ],
   "source": [
    "df_listed_in.head()"
   ]
  },
  {
   "cell_type": "code",
   "execution_count": 40,
   "metadata": {},
   "outputs": [
    {
     "data": {
      "text/plain": [
       "(5000, 5)"
      ]
     },
     "execution_count": 40,
     "metadata": {},
     "output_type": "execute_result"
    }
   ],
   "source": [
    "df_listed_in.shape"
   ]
  },
  {
   "cell_type": "markdown",
   "metadata": {},
   "source": [
    "# Device Insight data ready"
   ]
  },
  {
   "cell_type": "code",
   "execution_count": 35,
   "metadata": {},
   "outputs": [],
   "source": [
    "column_names = [\"id\",\"event\",\"device\",\"channel\",\"code\",\"size\",\"data\"]\n",
    "df = pd.read_table(\"mindbigdata-ep-v1.0/MW.txt\",header = None,\n",
    "                   names =column_names,index_col=\"id\",sep = '\\t')\n",
    "# Sorting\n",
    "df = df.sort_values([\"event\",\"channel\"])\n",
    "df = df.iloc[:5100,]\n",
    "def list_time_series(x):\n",
    "    L = []\n",
    "    for k in x.values:\n",
    "        a = k.split(sep = ',')\n",
    "        L.append([float(z) for z in a ])\n",
    "    return L\n",
    "df_listed_mw = df.groupby([\"event\",\"code\",\"device\"]).agg(\n",
    "    data_lists = pd.NamedAgg(column='data', aggfunc=list_time_series),\n",
    "    channels_names = pd.NamedAgg(column='channel', aggfunc=list)\n",
    ")\n",
    "df_listed_mw= df_listed_mw.reset_index()"
   ]
  },
  {
   "cell_type": "code",
   "execution_count": 36,
   "metadata": {},
   "outputs": [
    {
     "data": {
      "text/html": [
       "<div>\n",
       "<style scoped>\n",
       "    .dataframe tbody tr th:only-of-type {\n",
       "        vertical-align: middle;\n",
       "    }\n",
       "\n",
       "    .dataframe tbody tr th {\n",
       "        vertical-align: top;\n",
       "    }\n",
       "\n",
       "    .dataframe thead th {\n",
       "        text-align: right;\n",
       "    }\n",
       "</style>\n",
       "<table border=\"1\" class=\"dataframe\">\n",
       "  <thead>\n",
       "    <tr style=\"text-align: right;\">\n",
       "      <th></th>\n",
       "      <th>event</th>\n",
       "      <th>code</th>\n",
       "      <th>device</th>\n",
       "      <th>data_lists</th>\n",
       "      <th>channels_names</th>\n",
       "    </tr>\n",
       "  </thead>\n",
       "  <tbody>\n",
       "    <tr>\n",
       "      <th>0</th>\n",
       "      <td>0</td>\n",
       "      <td>0</td>\n",
       "      <td>MW</td>\n",
       "      <td>[[38.0, 48.0, 51.0, 44.0, 48.0, 56.0, 56.0, 41...</td>\n",
       "      <td>[FP1]</td>\n",
       "    </tr>\n",
       "    <tr>\n",
       "      <th>1</th>\n",
       "      <td>1</td>\n",
       "      <td>1</td>\n",
       "      <td>MW</td>\n",
       "      <td>[[83.0, 74.0, 65.0, 65.0, 66.0, 55.0, 43.0, 25...</td>\n",
       "      <td>[FP1]</td>\n",
       "    </tr>\n",
       "    <tr>\n",
       "      <th>2</th>\n",
       "      <td>2</td>\n",
       "      <td>4</td>\n",
       "      <td>MW</td>\n",
       "      <td>[[19.0, 10.0, -2.0, -9.0, -5.0, 3.0, 8.0, 7.0,...</td>\n",
       "      <td>[FP1]</td>\n",
       "    </tr>\n",
       "    <tr>\n",
       "      <th>3</th>\n",
       "      <td>3</td>\n",
       "      <td>1</td>\n",
       "      <td>MW</td>\n",
       "      <td>[[17.0, 29.0, 36.0, 26.0, 21.0, 17.0, 17.0, 13...</td>\n",
       "      <td>[FP1]</td>\n",
       "    </tr>\n",
       "    <tr>\n",
       "      <th>4</th>\n",
       "      <td>4</td>\n",
       "      <td>8</td>\n",
       "      <td>MW</td>\n",
       "      <td>[[77.0, 74.0, 69.0, 70.0, 76.0, 75.0, 76.0, 75...</td>\n",
       "      <td>[FP1]</td>\n",
       "    </tr>\n",
       "  </tbody>\n",
       "</table>\n",
       "</div>"
      ],
      "text/plain": [
       "   event  code device                                         data_lists  \\\n",
       "0      0     0     MW  [[38.0, 48.0, 51.0, 44.0, 48.0, 56.0, 56.0, 41...   \n",
       "1      1     1     MW  [[83.0, 74.0, 65.0, 65.0, 66.0, 55.0, 43.0, 25...   \n",
       "2      2     4     MW  [[19.0, 10.0, -2.0, -9.0, -5.0, 3.0, 8.0, 7.0,...   \n",
       "3      3     1     MW  [[17.0, 29.0, 36.0, 26.0, 21.0, 17.0, 17.0, 13...   \n",
       "4      4     8     MW  [[77.0, 74.0, 69.0, 70.0, 76.0, 75.0, 76.0, 75...   \n",
       "\n",
       "  channels_names  \n",
       "0          [FP1]  \n",
       "1          [FP1]  \n",
       "2          [FP1]  \n",
       "3          [FP1]  \n",
       "4          [FP1]  "
      ]
     },
     "execution_count": 36,
     "metadata": {},
     "output_type": "execute_result"
    }
   ],
   "source": [
    "df_listed_mw.head()"
   ]
  },
  {
   "cell_type": "code",
   "execution_count": 37,
   "metadata": {},
   "outputs": [
    {
     "data": {
      "text/plain": [
       "(5100, 5)"
      ]
     },
     "execution_count": 37,
     "metadata": {},
     "output_type": "execute_result"
    }
   ],
   "source": [
    "df_listed_mw.shape"
   ]
  },
  {
   "cell_type": "markdown",
   "metadata": {},
   "source": [
    "# Device MW is data is ready\n",
    "Merging and exporting to csv"
   ]
  },
  {
   "cell_type": "code",
   "execution_count": 41,
   "metadata": {},
   "outputs": [],
   "source": [
    "final_data = pd.concat([df_listed,df_listed_in,df_listed_mu,df_listed_mw])"
   ]
  },
  {
   "cell_type": "code",
   "execution_count": 42,
   "metadata": {},
   "outputs": [
    {
     "data": {
      "text/plain": [
       "(20422, 5)"
      ]
     },
     "execution_count": 42,
     "metadata": {},
     "output_type": "execute_result"
    }
   ],
   "source": [
    "final_data.shape"
   ]
  },
  {
   "cell_type": "code",
   "execution_count": 43,
   "metadata": {},
   "outputs": [],
   "source": [
    "final_data.to_csv(\"final_data\")"
   ]
  },
  {
   "cell_type": "code",
   "execution_count": null,
   "metadata": {},
   "outputs": [],
   "source": []
  }
 ],
 "metadata": {
  "kernelspec": {
   "display_name": "Python 3",
   "language": "python",
   "name": "python3"
  },
  "language_info": {
   "codemirror_mode": {
    "name": "ipython",
    "version": 3
   },
   "file_extension": ".py",
   "mimetype": "text/x-python",
   "name": "python",
   "nbconvert_exporter": "python",
   "pygments_lexer": "ipython3",
   "version": "3.8.6"
  },
  "pycharm": {
   "stem_cell": {
    "cell_type": "raw",
    "metadata": {
     "collapsed": false
    },
    "source": [
     "\n",
     "\n",
     "\n"
    ]
   }
  }
 },
 "nbformat": 4,
 "nbformat_minor": 1
}
